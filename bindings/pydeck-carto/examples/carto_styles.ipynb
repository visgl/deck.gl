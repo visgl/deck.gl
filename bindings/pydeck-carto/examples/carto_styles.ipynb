{
 "cells": [
  {
   "cell_type": "markdown",
   "id": "07b2a8ec",
   "metadata": {},
   "source": [
    "# CartoLayer with styles\n",
    "\n",
    "Render cloud data with color bins style"
   ]
  },
  {
   "cell_type": "code",
   "execution_count": null,
   "id": "30353b70",
   "metadata": {},
   "outputs": [],
   "source": [
    "import pydeck as pdk\n",
    "from pydeck_carto import register_carto_layer, CartoAuth, color_bins\n",
    "from pydeck_carto.layer import MapType, CartoConnection\n",
    "\n",
    "register_carto_layer()"
   ]
  },
  {
   "cell_type": "code",
   "execution_count": null,
   "id": "f4a7e937",
   "metadata": {},
   "outputs": [],
   "source": [
    "carto_auth = CartoAuth.from_oauth()"
   ]
  },
  {
   "cell_type": "code",
   "execution_count": null,
   "id": "89ad2747",
   "metadata": {},
   "outputs": [],
   "source": [
    "layer = pdk.Layer(\n",
    "    \"CartoLayer\",\n",
    "    data=\"SELECT geom, pct_higher_ed FROM `cartobq.public_account.higher_edu_by_county`\",\n",
    "    type_=MapType.QUERY,\n",
    "    connection=CartoConnection.CARTO_DW,\n",
    "    credentials=carto_auth.get_layer_credentials(),\n",
    "    get_fill_color=color_bins(\"pct_higher_ed\", [0, 20, 30, 40, 50, 60, 70], \"PinkYl\"),\n",
    "    get_line_color=[0, 0, 0, 100],\n",
    "    line_width_min_pixels=0.5,\n",
    "    pickable=True,\n",
    ")\n",
    "view_state = pdk.ViewState(latitude=38, longitude=-98, zoom=3)\n",
    "\n",
    "pdk.Deck(layer, map_style=pdk.map_styles.ROAD, initial_view_state=view_state)"
   ]
  }
 ],
 "metadata": {
  "kernelspec": {
   "display_name": "Python 3 (ipykernel)",
   "language": "python",
   "name": "python3"
  },
  "language_info": {
   "codemirror_mode": {
    "name": "ipython",
    "version": 3
   },
   "file_extension": ".py",
   "mimetype": "text/x-python",
   "name": "python",
   "nbconvert_exporter": "python",
   "pygments_lexer": "ipython3",
   "version": "3.8.10"
  },
  "vscode": {
   "interpreter": {
    "hash": "2a79afb8e965a12d310eacafcfa486b1d21189ddbcd5eb97edff3a0711f93ed5"
   }
  }
 },
 "nbformat": 4,
 "nbformat_minor": 5
}
