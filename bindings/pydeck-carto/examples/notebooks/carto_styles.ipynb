{
 "cells": [
  {
   "cell_type": "markdown",
   "id": "07b2a8ec",
   "metadata": {},
   "source": [
    "# CartoLayer - styles\n",
    "\n",
    "Render cloud data with color bins, categories and continous style."
   ]
  },
  {
   "cell_type": "code",
   "execution_count": null,
   "id": "30353b70",
   "metadata": {},
   "outputs": [],
   "source": [
    "import pydeck as pdk\n",
    "from carto_auth import CartoAuth\n",
    "from pydeck_carto import register_carto_layer, get_layer_credentials, get_error_notifier\n",
    "from pydeck_carto.layer import MapType, CartoConnection\n",
    "from pydeck_carto.styles import color_bins, color_categories, color_continuous"
   ]
  },
  {
   "cell_type": "code",
   "execution_count": null,
   "id": "f4a7e937",
   "metadata": {},
   "outputs": [],
   "source": [
    "carto_auth = CartoAuth.from_oauth()"
   ]
  },
  {
   "cell_type": "code",
   "execution_count": null,
   "id": "f90a430c",
   "metadata": {},
   "outputs": [],
   "source": [
    "register_carto_layer()"
   ]
  },
  {
   "cell_type": "code",
   "execution_count": null,
   "id": "89ad2747",
   "metadata": {},
   "outputs": [],
   "source": [
    "layer = pdk.Layer(\n",
    "    \"CartoLayer\",\n",
    "    data=\"SELECT geom, pct_higher_ed FROM `cartobq.public_account.higher_edu_by_county`\",\n",
    "    type_=MapType.QUERY,\n",
    "    connection=CartoConnection.CARTO_DW,\n",
    "    credentials=get_layer_credentials(carto_auth),\n",
    "    get_fill_color=color_bins(\"pct_higher_ed\", [0, 20, 30, 40, 50, 60, 70], \"PinkYl\"),\n",
    "    get_line_color=[0, 0, 0, 100],\n",
    "    line_width_min_pixels=0.5,\n",
    "    pickable=True,\n",
    "    on_data_error=get_error_notifier(),\n",
    ")\n",
    "\n",
    "view_state = pdk.ViewState(latitude=38, longitude=-98, zoom=3)\n",
    "\n",
    "pdk.Deck(layer, map_style=pdk.map_styles.ROAD, initial_view_state=view_state)"
   ]
  },
  {
   "cell_type": "code",
   "execution_count": null,
   "id": "e6db5241",
   "metadata": {},
   "outputs": [],
   "source": [
    "layer = pdk.Layer(\n",
    "    \"CartoLayer\",\n",
    "    data=\"SELECT geom, landuse_type FROM `cartobq.public_account.wburg_parcels`\",\n",
    "    type_=MapType.QUERY,\n",
    "    connection=CartoConnection.CARTO_DW,\n",
    "    credentials=get_layer_credentials(carto_auth),\n",
    "    get_fill_color=color_categories(\n",
    "        \"landuse_type\",\n",
    "        [\n",
    "            \"Multi-Family Walk-Up Buildings\",\n",
    "            \"Multi-Family Elevator Buildings\",\n",
    "            \"Mixed Residential And Commercial Buildings\",\n",
    "            \"Parking Facilities\",\n",
    "            \"1 and 2 Family Buildings\",\n",
    "            \"Commercial and Office Buildings\",\n",
    "            \"Vacant Land\",\n",
    "            \"Public Facilities and Institutions\",\n",
    "            \"Transportation and Utility\",\n",
    "            \"Open Space and Outdoor Recreation\",\n",
    "            \"Industrial and Manufacturing\",\n",
    "        ],\n",
    "        \"Bold\",\n",
    "    ),\n",
    "    get_line_color=[0, 0, 0, 100],\n",
    "    line_width_min_pixels=0.5,\n",
    "    pickable=True,\n",
    "    on_data_error=get_error_notifier(),\n",
    ")\n",
    "\n",
    "view_state = pdk.ViewState(latitude=40.715, longitude=-73.959, zoom=14)\n",
    "\n",
    "pdk.Deck(layer, map_style=pdk.map_styles.LIGHT, initial_view_state=view_state)"
   ]
  },
  {
   "cell_type": "code",
   "execution_count": null,
   "id": "3c06e8b6",
   "metadata": {},
   "outputs": [],
   "source": [
    "layer = pdk.Layer(\n",
    "    \"CartoLayer\",\n",
    "    data=\"SELECT geom, value FROM cartobq.public_account.temps\",\n",
    "    type_=MapType.QUERY,\n",
    "    connection=CartoConnection.CARTO_DW,\n",
    "    credentials=get_layer_credentials(carto_auth),\n",
    "    get_fill_color=color_continuous(\"value\", [70, 75, 80, 85, 90, 95, 100], \"BluYl\"),\n",
    "    point_radius_min_pixels=2.5,\n",
    "    pickable=True,\n",
    "    on_data_error=get_error_notifier(),\n",
    ")\n",
    "\n",
    "view_state = pdk.ViewState(latitude=34, longitude=-98, zoom=3)\n",
    "\n",
    "pdk.Deck(layer, map_style=pdk.map_styles.ROAD, initial_view_state=view_state)"
   ]
  }
 ],
 "metadata": {
  "kernelspec": {
   "display_name": "Python 3 (ipykernel)",
   "language": "python",
   "name": "python3"
  },
  "language_info": {
   "codemirror_mode": {
    "name": "ipython",
    "version": 3
   },
   "file_extension": ".py",
   "mimetype": "text/x-python",
   "name": "python",
   "nbconvert_exporter": "python",
   "pygments_lexer": "ipython3",
   "version": "3.8.10"
  },
  "vscode": {
   "interpreter": {
    "hash": "397f9d86bc6cffaf98711878e048d4ea1b6f37d57e9a5761ac2bec56bfc5b368"
   }
  }
 },
 "nbformat": 4,
 "nbformat_minor": 5
}
