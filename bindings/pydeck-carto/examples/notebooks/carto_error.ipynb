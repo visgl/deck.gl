{
 "cells": [
  {
   "cell_type": "markdown",
   "id": "07b2a8ec",
   "metadata": {},
   "source": [
    "# CartoLayer - Notify error\n",
    "\n",
    "Render cloud data and show the data error in the same map."
   ]
  },
  {
   "cell_type": "code",
   "execution_count": null,
   "id": "30353b70",
   "metadata": {},
   "outputs": [],
   "source": [
    "import pydeck as pdk\n",
    "from carto_auth import CartoAuth\n",
    "from pydeck_carto import register_carto_layer, get_layer_credentials, get_error_notifier\n",
    "from pydeck_carto.layer import MapType, CartoConnection"
   ]
  },
  {
   "cell_type": "code",
   "execution_count": null,
   "id": "f4a7e937",
   "metadata": {},
   "outputs": [],
   "source": [
    "carto_auth = CartoAuth.from_oauth()"
   ]
  },
  {
   "cell_type": "code",
   "execution_count": null,
   "id": "5c8bba91",
   "metadata": {},
   "outputs": [],
   "source": [
    "register_carto_layer()"
   ]
  },
  {
   "cell_type": "code",
   "execution_count": null,
   "id": "89ad2747",
   "metadata": {},
   "outputs": [],
   "source": [
    "layer = pdk.Layer(\n",
    "    \"CartoLayer\",\n",
    "    data=\"SELECT geomx, name FROM cartobq.public_account.populated_places\",\n",
    "    type_=pdk.types.String(\"query\"),\n",
    "    connection=pdk.types.String(\"carto_dw\"),\n",
    "    credentials=get_layer_credentials(carto_auth),\n",
    "    get_fill_color=[238, 77, 90],\n",
    "    point_radius_min_pixels=2.5,\n",
    "    on_data_error=get_error_notifier(),\n",
    ")\n",
    "\n",
    "view_state = pdk.ViewState(latitude=0, longitude=0, zoom=1)\n",
    "\n",
    "pdk.Deck(layer, map_style=pdk.map_styles.ROAD, initial_view_state=view_state)"
   ]
  }
 ],
 "metadata": {
  "kernelspec": {
   "display_name": "Python 3 (ipykernel)",
   "language": "python",
   "name": "python3"
  },
  "language_info": {
   "codemirror_mode": {
    "name": "ipython",
    "version": 3
   },
   "file_extension": ".py",
   "mimetype": "text/x-python",
   "name": "python",
   "nbconvert_exporter": "python",
   "pygments_lexer": "ipython3",
   "version": "3.8.10"
  },
  "vscode": {
   "interpreter": {
    "hash": "397f9d86bc6cffaf98711878e048d4ea1b6f37d57e9a5761ac2bec56bfc5b368"
   }
  }
 },
 "nbformat": 4,
 "nbformat_minor": 5
}
