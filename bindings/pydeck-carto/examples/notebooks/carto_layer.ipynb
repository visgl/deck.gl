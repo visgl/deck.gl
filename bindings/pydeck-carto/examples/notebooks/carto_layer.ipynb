{
 "cells": [
  {
   "cell_type": "markdown",
   "id": "07b2a8ec",
   "metadata": {},
   "source": [
    "# CartoLayer\n",
    "\n",
    "Render cloud from a CARTO connection using deck.gl [CartoLayer](https://deck.gl/docs/api-reference/carto/carto-layer)."
   ]
  },
  {
   "cell_type": "code",
   "execution_count": null,
   "id": "30353b70",
   "metadata": {},
   "outputs": [],
   "source": [
    "import pydeck as pdk\n",
    "import pydeck_carto as pdkc\n",
    "from carto_auth import CartoAuth"
   ]
  },
  {
   "cell_type": "code",
   "execution_count": null,
   "id": "f4a7e937",
   "metadata": {},
   "outputs": [],
   "source": [
    "carto_auth = CartoAuth.from_oauth()"
   ]
  },
  {
   "cell_type": "code",
   "execution_count": null,
   "id": "f90a430c",
   "metadata": {},
   "outputs": [],
   "source": [
    "pdkc.register_carto_layer()"
   ]
  },
  {
   "cell_type": "markdown",
   "id": "9b703385",
   "metadata": {},
   "source": [
    "## CARTO DW\n",
    "\n",
    "Every CARTO account has a **CARTO Data Warehouse** to work with. In this example, a table with world airports from the CARTO DW is rendered."
   ]
  },
  {
   "cell_type": "code",
   "execution_count": null,
   "id": "dfebc544",
   "metadata": {},
   "outputs": [],
   "source": [
    "layer = pdk.Layer(\n",
    "    \"CartoLayer\",\n",
    "    data=\"carto-demo-data.demo_tables.world_airports\",\n",
    "    type_=pdkc.MapType.TABLE,\n",
    "    connection=pdkc.CartoConnection.CARTO_DW,\n",
    "    credentials=pdkc.get_layer_credentials(carto_auth),\n",
    "    get_fill_color=[238, 77, 90],\n",
    "    point_radius_min_pixels=2.5,\n",
    "    pickable=True,\n",
    ")\n",
    "\n",
    "view_state = pdk.ViewState(latitude=0, longitude=0, zoom=1)\n",
    "\n",
    "tooltip = {\"html\": \"<b>Name:</b> {name}\", \"style\": {\"color\": \"white\"}}\n",
    "\n",
    "pdk.Deck(\n",
    "    layer, map_style=pdk.map_styles.ROAD, initial_view_state=view_state, tooltip=tooltip\n",
    ")"
   ]
  },
  {
   "cell_type": "markdown",
   "id": "f89456a7",
   "metadata": {},
   "source": [
    "## Data Warehouses\n",
    "\n",
    "CARTO allows rendering cloud data from **BigQuery, Snowflake, Redshift, Postgres and Databricks** using custom connections.\n",
    "\n",
    "This example performs a spatial intersection to display the airports in Spain. Note that it uses a BigQuery connection called \"bigquery\"."
   ]
  },
  {
   "cell_type": "code",
   "execution_count": null,
   "id": "172e318c",
   "metadata": {},
   "outputs": [],
   "source": [
    "layer = pdk.Layer(\n",
    "    \"CartoLayer\",\n",
    "    data=\"\"\"\n",
    "        SELECT a.geom, a.name\n",
    "        FROM `carto-demo-data.demo_tables.world_airports` AS a,\n",
    "             `carto-do-public-data.natural_earth.geography_glo_admin0countries_410` AS g\n",
    "        WHERE g.ADMIN = 'Spain' AND\n",
    "              ST_INTERSECTS(a.geom, g.geom)\n",
    "    \"\"\",\n",
    "    type_=pdkc.MapType.QUERY,\n",
    "    connection=pdk.types.String(\"bigquery\"),\n",
    "    credentials=pdkc.get_layer_credentials(carto_auth),\n",
    "    get_fill_color=[238, 77, 90],\n",
    "    point_radius_min_pixels=2.5,\n",
    "    pickable=True,\n",
    ")\n",
    "\n",
    "view_state = pdk.ViewState(latitude=36, longitude=-7.44, zoom=4)\n",
    "\n",
    "tooltip = {\"html\": \"<b>Name:</b> {name}\", \"style\": {\"color\": \"white\"}}\n",
    "\n",
    "pdk.Deck(\n",
    "    layer, map_style=pdk.map_styles.ROAD, initial_view_state=view_state, tooltip=tooltip\n",
    ")"
   ]
  },
  {
   "attachments": {
    "error-message-column.png": {
     "image/png": "[encoded data removed]"
    }
   },
   "cell_type": "markdown",
   "id": "cb826ce8",
   "metadata": {},
   "source": [
    "### Error management\n",
    "\n",
    "Any data error is displayed instead of the map to provide instant feedback about the input parameters. For example, the user is not authorized, the connection or the column names do not exist, etc.\n",
    "\n",
    "![error-message-column.png](attachment:error-message-column.png)"
   ]
  }
 ],
 "metadata": {
  "kernelspec": {
   "display_name": "Python 3 (ipykernel)",
   "language": "python",
   "name": "python3"
  },
  "language_info": {
   "codemirror_mode": {
    "name": "ipython",
    "version": 3
   },
   "file_extension": ".py",
   "mimetype": "text/x-python",
   "name": "python",
   "nbconvert_exporter": "python",
   "pygments_lexer": "ipython3",
   "version": "3.8.10"
  },
  "vscode": {
   "interpreter": {
    "hash": "397f9d86bc6cffaf98711878e048d4ea1b6f37d57e9a5761ac2bec56bfc5b368"
   }
  }
 },
 "nbformat": 4,
 "nbformat_minor": 5
}
