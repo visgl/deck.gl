{
 "cells": [
  {
   "cell_type": "markdown",
   "id": "07b2a8ec",
   "metadata": {},
   "source": [
    "# CartoLayer\n",
    "\n",
    "Render cloud data with a session token."
   ]
  },
  {
   "cell_type": "code",
   "execution_count": null,
   "id": "30353b70",
   "metadata": {},
   "outputs": [],
   "source": [
    "import pydeck as pdk\n",
    "from pydeck_carto import register_carto_layer, CartoAuth, is_valid_carto_layer\n",
    "from pydeck_carto.layer import MapType, CartoConnection\n",
    "\n",
    "register_carto_layer()"
   ]
  },
  {
   "cell_type": "code",
   "execution_count": null,
   "id": "f4a7e937",
   "metadata": {},
   "outputs": [],
   "source": [
    "carto_auth = CartoAuth.from_file(\"./carto_credentials.json\")"
   ]
  },
  {
   "cell_type": "code",
   "execution_count": null,
   "id": "89ad2747",
   "metadata": {},
   "outputs": [],
   "source": [
    "layer = pdk.Layer(\n",
    "    \"CartoLayer\",\n",
    "    data=\"SELECT geom, name FROM cartobq.public_account.populated_places\",\n",
    "    type_=MapType.QUERY,\n",
    "    connection=CartoConnection.CARTO_DW,\n",
    "    credentials=carto_auth.get_layer_credentials(),\n",
    "    get_fill_color=[238, 77, 90],\n",
    "    point_radius_min_pixels=2.5,\n",
    ")\n",
    "\n",
    "assert is_valid_carto_layer(layer, carto_auth)\n",
    "\n",
    "view_state = pdk.ViewState(latitude=0, longitude=0, zoom=1)\n",
    "\n",
    "pdk.Deck(layer, map_style=pdk.map_styles.ROAD, initial_view_state=view_state)"
   ]
  }
 ],
 "metadata": {
  "kernelspec": {
   "display_name": "Python 3 (ipykernel)",
   "language": "python",
   "name": "python3"
  },
  "language_info": {
   "codemirror_mode": {
    "name": "ipython",
    "version": 3
   },
   "file_extension": ".py",
   "mimetype": "text/x-python",
   "name": "python",
   "nbconvert_exporter": "python",
   "pygments_lexer": "ipython3",
   "version": "3.8.10"
  }
 },
 "nbformat": 4,
 "nbformat_minor": 5
}